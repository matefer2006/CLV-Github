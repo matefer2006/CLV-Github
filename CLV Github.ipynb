{
 "cells": [
  {
   "cell_type": "code",
   "execution_count": 31,
   "metadata": {},
   "outputs": [],
   "source": [
    "import lifetimes\n",
    "import pandas as pd\n",
    "import numpy as np\n",
    "import datetime as dt\n",
    "import matplotlib.pyplot as plt\n",
    "import seaborn as sns\n",
    "from lifetimes import BetaGeoFitter # BG/NBD\n",
    "from lifetimes import GammaGammaFitter # Gamma-Gamma Model\n",
    "from lifetimes.plotting import plot_frequency_recency_matrix\n",
    "\n",
    "pd.set_option('display.float_format', lambda x: '%.2f' % x)"
   ]
  },
  {
   "cell_type": "code",
   "execution_count": 32,
   "metadata": {},
   "outputs": [],
   "source": [
    "orders_df = pd.read_csv(r'/Users/matefer2006/Downloads/CLV Project query_08202024 (Github).csv')"
   ]
  },
  {
   "cell_type": "code",
   "execution_count": 33,
   "metadata": {},
   "outputs": [
    {
     "data": {
      "text/html": [
       "<div>\n",
       "<style scoped>\n",
       "    .dataframe tbody tr th:only-of-type {\n",
       "        vertical-align: middle;\n",
       "    }\n",
       "\n",
       "    .dataframe tbody tr th {\n",
       "        vertical-align: top;\n",
       "    }\n",
       "\n",
       "    .dataframe thead th {\n",
       "        text-align: right;\n",
       "    }\n",
       "</style>\n",
       "<table border=\"1\" class=\"dataframe\">\n",
       "  <thead>\n",
       "    <tr style=\"text-align: right;\">\n",
       "      <th></th>\n",
       "      <th>ACCOUNT_ID</th>\n",
       "      <th>PRODUCT</th>\n",
       "      <th>ORDER_DATE</th>\n",
       "      <th>LAST_ORDERDATE</th>\n",
       "      <th>TIME_BETWEEN_ORDERS</th>\n",
       "      <th>REVENUE</th>\n",
       "      <th>QUANTITY</th>\n",
       "    </tr>\n",
       "  </thead>\n",
       "  <tbody>\n",
       "    <tr>\n",
       "      <th>0</th>\n",
       "      <td>83815.00</td>\n",
       "      <td>Prod2</td>\n",
       "      <td>15/09/2023</td>\n",
       "      <td>NaN</td>\n",
       "      <td>NaN</td>\n",
       "      <td>6300</td>\n",
       "      <td>15</td>\n",
       "    </tr>\n",
       "    <tr>\n",
       "      <th>1</th>\n",
       "      <td>22625.00</td>\n",
       "      <td>Prod1</td>\n",
       "      <td>17/08/2020</td>\n",
       "      <td>NaN</td>\n",
       "      <td>NaN</td>\n",
       "      <td>4680</td>\n",
       "      <td>12</td>\n",
       "    </tr>\n",
       "    <tr>\n",
       "      <th>2</th>\n",
       "      <td>22625.00</td>\n",
       "      <td>Prod1</td>\n",
       "      <td>03/09/2020</td>\n",
       "      <td>17/08/2020</td>\n",
       "      <td>17.00</td>\n",
       "      <td>5000</td>\n",
       "      <td>10</td>\n",
       "    </tr>\n",
       "    <tr>\n",
       "      <th>3</th>\n",
       "      <td>22625.00</td>\n",
       "      <td>Prod1</td>\n",
       "      <td>14/09/2020</td>\n",
       "      <td>03/09/2020</td>\n",
       "      <td>11.00</td>\n",
       "      <td>5000</td>\n",
       "      <td>10</td>\n",
       "    </tr>\n",
       "    <tr>\n",
       "      <th>4</th>\n",
       "      <td>22625.00</td>\n",
       "      <td>Prod1</td>\n",
       "      <td>22/09/2020</td>\n",
       "      <td>14/09/2020</td>\n",
       "      <td>8.00</td>\n",
       "      <td>9750</td>\n",
       "      <td>25</td>\n",
       "    </tr>\n",
       "  </tbody>\n",
       "</table>\n",
       "</div>"
      ],
      "text/plain": [
       "   ACCOUNT_ID PRODUCT  ORDER_DATE LAST_ORDERDATE  TIME_BETWEEN_ORDERS  \\\n",
       "0    83815.00   Prod2  15/09/2023            NaN                  NaN   \n",
       "1    22625.00   Prod1  17/08/2020            NaN                  NaN   \n",
       "2    22625.00   Prod1  03/09/2020     17/08/2020                17.00   \n",
       "3    22625.00   Prod1  14/09/2020     03/09/2020                11.00   \n",
       "4    22625.00   Prod1  22/09/2020     14/09/2020                 8.00   \n",
       "\n",
       "   REVENUE  QUANTITY  \n",
       "0     6300        15  \n",
       "1     4680        12  \n",
       "2     5000        10  \n",
       "3     5000        10  \n",
       "4     9750        25  "
      ]
     },
     "execution_count": 33,
     "metadata": {},
     "output_type": "execute_result"
    }
   ],
   "source": [
    "orders_df.head()"
   ]
  },
  {
   "attachments": {},
   "cell_type": "markdown",
   "metadata": {},
   "source": [
    "### Data cleansing, removing outliers - top 1% quantile"
   ]
  },
  {
   "cell_type": "code",
   "execution_count": 34,
   "metadata": {},
   "outputs": [
    {
     "data": {
      "text/html": [
       "<div>\n",
       "<style scoped>\n",
       "    .dataframe tbody tr th:only-of-type {\n",
       "        vertical-align: middle;\n",
       "    }\n",
       "\n",
       "    .dataframe tbody tr th {\n",
       "        vertical-align: top;\n",
       "    }\n",
       "\n",
       "    .dataframe thead th {\n",
       "        text-align: right;\n",
       "    }\n",
       "</style>\n",
       "<table border=\"1\" class=\"dataframe\">\n",
       "  <thead>\n",
       "    <tr style=\"text-align: right;\">\n",
       "      <th></th>\n",
       "      <th>ACCOUNT_ID</th>\n",
       "      <th>TIME_BETWEEN_ORDERS</th>\n",
       "      <th>REVENUE</th>\n",
       "      <th>QUANTITY</th>\n",
       "    </tr>\n",
       "  </thead>\n",
       "  <tbody>\n",
       "    <tr>\n",
       "      <th>count</th>\n",
       "      <td>76064.00</td>\n",
       "      <td>58748.00</td>\n",
       "      <td>76123.00</td>\n",
       "      <td>76123.00</td>\n",
       "    </tr>\n",
       "    <tr>\n",
       "      <th>mean</th>\n",
       "      <td>50421.46</td>\n",
       "      <td>79.81</td>\n",
       "      <td>7922.09</td>\n",
       "      <td>20.46</td>\n",
       "    </tr>\n",
       "    <tr>\n",
       "      <th>std</th>\n",
       "      <td>29006.99</td>\n",
       "      <td>95.97</td>\n",
       "      <td>31397.69</td>\n",
       "      <td>54.75</td>\n",
       "    </tr>\n",
       "    <tr>\n",
       "      <th>min</th>\n",
       "      <td>10.00</td>\n",
       "      <td>1.00</td>\n",
       "      <td>0.00</td>\n",
       "      <td>0.00</td>\n",
       "    </tr>\n",
       "    <tr>\n",
       "      <th>25%</th>\n",
       "      <td>25149.00</td>\n",
       "      <td>21.00</td>\n",
       "      <td>3600.00</td>\n",
       "      <td>10.00</td>\n",
       "    </tr>\n",
       "    <tr>\n",
       "      <th>50%</th>\n",
       "      <td>50607.00</td>\n",
       "      <td>49.00</td>\n",
       "      <td>5850.00</td>\n",
       "      <td>15.00</td>\n",
       "    </tr>\n",
       "    <tr>\n",
       "      <th>75%</th>\n",
       "      <td>75501.00</td>\n",
       "      <td>98.00</td>\n",
       "      <td>9750.00</td>\n",
       "      <td>25.00</td>\n",
       "    </tr>\n",
       "    <tr>\n",
       "      <th>max</th>\n",
       "      <td>99985.00</td>\n",
       "      <td>1334.00</td>\n",
       "      <td>3840000.00</td>\n",
       "      <td>6400.00</td>\n",
       "    </tr>\n",
       "  </tbody>\n",
       "</table>\n",
       "</div>"
      ],
      "text/plain": [
       "       ACCOUNT_ID  TIME_BETWEEN_ORDERS    REVENUE  QUANTITY\n",
       "count    76064.00             58748.00   76123.00  76123.00\n",
       "mean     50421.46                79.81    7922.09     20.46\n",
       "std      29006.99                95.97   31397.69     54.75\n",
       "min         10.00                 1.00       0.00      0.00\n",
       "25%      25149.00                21.00    3600.00     10.00\n",
       "50%      50607.00                49.00    5850.00     15.00\n",
       "75%      75501.00                98.00    9750.00     25.00\n",
       "max      99985.00              1334.00 3840000.00   6400.00"
      ]
     },
     "execution_count": 34,
     "metadata": {},
     "output_type": "execute_result"
    }
   ],
   "source": [
    "orders_df.describe()"
   ]
  },
  {
   "cell_type": "code",
   "execution_count": 35,
   "metadata": {},
   "outputs": [
    {
     "name": "stderr",
     "output_type": "stream",
     "text": [
      "/var/folders/ny/28gsz9k14y592crfr9t1v3x00000gn/T/ipykernel_43983/2858039207.py:1: UserWarning: Parsing dates in %d/%m/%Y format when dayfirst=False (the default) was specified. Pass `dayfirst=True` or specify a format to silence this warning.\n",
      "  orders_df['ORDER_DATE'] = pd.to_datetime(orders_df['ORDER_DATE'])\n"
     ]
    }
   ],
   "source": [
    "orders_df['ORDER_DATE'] = pd.to_datetime(orders_df['ORDER_DATE'])"
   ]
  },
  {
   "attachments": {},
   "cell_type": "markdown",
   "metadata": {},
   "source": [
    "Comment this section if we don't want to exclude anything"
   ]
  },
  {
   "cell_type": "code",
   "execution_count": 36,
   "metadata": {},
   "outputs": [],
   "source": [
    "def quantiles(df, variable, q1=0.01, q2=0.99):\n",
    "    lower_boundary = df[variable].quantile(q1)\n",
    "    upper_boundary = df[variable].quantile(q2)\n",
    "    return upper_boundary, lower_boundary\n",
    "\n",
    "def applying_quantiles(df, variable):\n",
    "    upper_boundary, lower_boundary = quantiles(df, variable)\n",
    "    df[variable] = np.where(df[variable] > upper_boundary, upper_boundary, \n",
    "                        np.where(df[variable] < lower_boundary, lower_boundary, \n",
    "                            df[variable])\n",
    "                           )\n",
    "    \n",
    "applying_quantiles(orders_df, 'REVENUE') # Apply function to Revenue\n",
    "applying_quantiles(orders_df, 'TIME_BETWEEN_ORDERS') # Apply function to Time Between orders"
   ]
  },
  {
   "cell_type": "code",
   "execution_count": 37,
   "metadata": {},
   "outputs": [
    {
     "data": {
      "text/html": [
       "<div>\n",
       "<style scoped>\n",
       "    .dataframe tbody tr th:only-of-type {\n",
       "        vertical-align: middle;\n",
       "    }\n",
       "\n",
       "    .dataframe tbody tr th {\n",
       "        vertical-align: top;\n",
       "    }\n",
       "\n",
       "    .dataframe thead th {\n",
       "        text-align: right;\n",
       "    }\n",
       "</style>\n",
       "<table border=\"1\" class=\"dataframe\">\n",
       "  <thead>\n",
       "    <tr style=\"text-align: right;\">\n",
       "      <th></th>\n",
       "      <th>ACCOUNT_ID</th>\n",
       "      <th>ORDER_DATE</th>\n",
       "      <th>TIME_BETWEEN_ORDERS</th>\n",
       "      <th>REVENUE</th>\n",
       "      <th>QUANTITY</th>\n",
       "    </tr>\n",
       "  </thead>\n",
       "  <tbody>\n",
       "    <tr>\n",
       "      <th>count</th>\n",
       "      <td>76064.00</td>\n",
       "      <td>76123</td>\n",
       "      <td>58748.00</td>\n",
       "      <td>76123.00</td>\n",
       "      <td>76123.00</td>\n",
       "    </tr>\n",
       "    <tr>\n",
       "      <th>mean</th>\n",
       "      <td>50421.46</td>\n",
       "      <td>2023-03-12 14:57:53.021294592</td>\n",
       "      <td>78.11</td>\n",
       "      <td>7241.22</td>\n",
       "      <td>20.46</td>\n",
       "    </tr>\n",
       "    <tr>\n",
       "      <th>min</th>\n",
       "      <td>10.00</td>\n",
       "      <td>2020-06-24 00:00:00</td>\n",
       "      <td>1.00</td>\n",
       "      <td>1825.00</td>\n",
       "      <td>0.00</td>\n",
       "    </tr>\n",
       "    <tr>\n",
       "      <th>25%</th>\n",
       "      <td>25149.00</td>\n",
       "      <td>2022-06-24 00:00:00</td>\n",
       "      <td>21.00</td>\n",
       "      <td>3600.00</td>\n",
       "      <td>10.00</td>\n",
       "    </tr>\n",
       "    <tr>\n",
       "      <th>50%</th>\n",
       "      <td>50607.00</td>\n",
       "      <td>2023-05-24 00:00:00</td>\n",
       "      <td>49.00</td>\n",
       "      <td>5850.00</td>\n",
       "      <td>15.00</td>\n",
       "    </tr>\n",
       "    <tr>\n",
       "      <th>75%</th>\n",
       "      <td>75501.00</td>\n",
       "      <td>2024-01-22 00:00:00</td>\n",
       "      <td>98.00</td>\n",
       "      <td>9750.00</td>\n",
       "      <td>25.00</td>\n",
       "    </tr>\n",
       "    <tr>\n",
       "      <th>max</th>\n",
       "      <td>99985.00</td>\n",
       "      <td>2024-08-20 00:00:00</td>\n",
       "      <td>467.00</td>\n",
       "      <td>36500.00</td>\n",
       "      <td>6400.00</td>\n",
       "    </tr>\n",
       "    <tr>\n",
       "      <th>std</th>\n",
       "      <td>29006.99</td>\n",
       "      <td>NaN</td>\n",
       "      <td>85.79</td>\n",
       "      <td>5715.11</td>\n",
       "      <td>54.75</td>\n",
       "    </tr>\n",
       "  </tbody>\n",
       "</table>\n",
       "</div>"
      ],
      "text/plain": [
       "       ACCOUNT_ID                     ORDER_DATE  TIME_BETWEEN_ORDERS  \\\n",
       "count    76064.00                          76123             58748.00   \n",
       "mean     50421.46  2023-03-12 14:57:53.021294592                78.11   \n",
       "min         10.00            2020-06-24 00:00:00                 1.00   \n",
       "25%      25149.00            2022-06-24 00:00:00                21.00   \n",
       "50%      50607.00            2023-05-24 00:00:00                49.00   \n",
       "75%      75501.00            2024-01-22 00:00:00                98.00   \n",
       "max      99985.00            2024-08-20 00:00:00               467.00   \n",
       "std      29006.99                            NaN                85.79   \n",
       "\n",
       "       REVENUE  QUANTITY  \n",
       "count 76123.00  76123.00  \n",
       "mean   7241.22     20.46  \n",
       "min    1825.00      0.00  \n",
       "25%    3600.00     10.00  \n",
       "50%    5850.00     15.00  \n",
       "75%    9750.00     25.00  \n",
       "max   36500.00   6400.00  \n",
       "std    5715.11     54.75  "
      ]
     },
     "execution_count": 37,
     "metadata": {},
     "output_type": "execute_result"
    }
   ],
   "source": [
    "orders_df.describe()"
   ]
  },
  {
   "cell_type": "code",
   "execution_count": 38,
   "metadata": {},
   "outputs": [],
   "source": [
    "orders_df_grouped = orders_df.groupby(['ACCOUNT_ID', 'PRODUCT'])[['REVENUE', \n",
    "                                                                              'QUANTITY', \n",
    "                                                                              'TIME_BETWEEN_ORDERS',\n",
    "                                                                              'ORDER_DATE']].agg({'REVENUE': 'mean', \n",
    "                                                                                                  'QUANTITY': 'mean', \n",
    "                                                                                                  'TIME_BETWEEN_ORDERS': 'mean',\n",
    "                                                                                                  'ORDER_DATE': ['min', 'max', 'nunique']\n",
    "                                                                                                  })"
   ]
  },
  {
   "cell_type": "code",
   "execution_count": 39,
   "metadata": {},
   "outputs": [],
   "source": [
    "orders_df_grouped.reset_index(inplace=True)"
   ]
  },
  {
   "cell_type": "code",
   "execution_count": 40,
   "metadata": {},
   "outputs": [],
   "source": [
    "orders_df_grouped.columns = ['_'.join(col).strip() for col in orders_df_grouped.columns.values]\n",
    "orders_df_grouped.rename(columns={'ACCOUNT_ID_' :'ACCOUNT_ID',\n",
    "                                  'PRODUCT_': 'PRODUCT'}, inplace=True)"
   ]
  },
  {
   "attachments": {},
   "cell_type": "markdown",
   "metadata": {},
   "source": [
    "Regency (how recent), Frequency (how often) and Monetary value (how much)"
   ]
  },
  {
   "cell_type": "code",
   "execution_count": 41,
   "metadata": {},
   "outputs": [],
   "source": [
    "# Generate model metrics: Frequency, Recency, T and Monetary Value\n",
    "orders_df_grouped.rename(columns={'ORDER_DATE_nunique': 'frequency',\n",
    "                          'REVENUE_mean': 'monetary_value'}, inplace=True)\n",
    "\n",
    "orders_df_grouped['recency'] = ((orders_df_grouped['ORDER_DATE_max'] - orders_df_grouped['ORDER_DATE_min']) / np.timedelta64(1, 'D')).astype(int)\n",
    "# orders_df_grouped['recency'] = ((orders_df_grouped['ORDER_DATE_max'].max() - orders_df_grouped['ORDER_DATE_max']) / np.timedelta64(1, 'D')).astype(int)\n",
    "\n",
    "orders_df_grouped['T'] = ((max(orders_df_grouped['ORDER_DATE_max']) - orders_df_grouped['ORDER_DATE_min']) / np.timedelta64(1, 'D')).astype(int)"
   ]
  },
  {
   "cell_type": "code",
   "execution_count": 42,
   "metadata": {},
   "outputs": [
    {
     "data": {
      "text/html": [
       "<div>\n",
       "<style scoped>\n",
       "    .dataframe tbody tr th:only-of-type {\n",
       "        vertical-align: middle;\n",
       "    }\n",
       "\n",
       "    .dataframe tbody tr th {\n",
       "        vertical-align: top;\n",
       "    }\n",
       "\n",
       "    .dataframe thead th {\n",
       "        text-align: right;\n",
       "    }\n",
       "</style>\n",
       "<table border=\"1\" class=\"dataframe\">\n",
       "  <thead>\n",
       "    <tr style=\"text-align: right;\">\n",
       "      <th></th>\n",
       "      <th>ACCOUNT_ID</th>\n",
       "      <th>PRODUCT</th>\n",
       "      <th>monetary_value</th>\n",
       "      <th>QUANTITY_mean</th>\n",
       "      <th>TIME_BETWEEN_ORDERS_mean</th>\n",
       "      <th>ORDER_DATE_min</th>\n",
       "      <th>ORDER_DATE_max</th>\n",
       "      <th>frequency</th>\n",
       "      <th>recency</th>\n",
       "      <th>T</th>\n",
       "    </tr>\n",
       "  </thead>\n",
       "  <tbody>\n",
       "    <tr>\n",
       "      <th>0</th>\n",
       "      <td>10.00</td>\n",
       "      <td>Prod1</td>\n",
       "      <td>7600.00</td>\n",
       "      <td>20.00</td>\n",
       "      <td>NaN</td>\n",
       "      <td>2024-06-27</td>\n",
       "      <td>2024-06-27</td>\n",
       "      <td>1</td>\n",
       "      <td>0</td>\n",
       "      <td>54</td>\n",
       "    </tr>\n",
       "    <tr>\n",
       "      <th>1</th>\n",
       "      <td>12.00</td>\n",
       "      <td>Prod1</td>\n",
       "      <td>5533.33</td>\n",
       "      <td>13.89</td>\n",
       "      <td>64.88</td>\n",
       "      <td>2021-10-27</td>\n",
       "      <td>2023-03-30</td>\n",
       "      <td>9</td>\n",
       "      <td>519</td>\n",
       "      <td>1028</td>\n",
       "    </tr>\n",
       "    <tr>\n",
       "      <th>2</th>\n",
       "      <td>13.00</td>\n",
       "      <td>Prod1</td>\n",
       "      <td>1950.00</td>\n",
       "      <td>5.00</td>\n",
       "      <td>NaN</td>\n",
       "      <td>2021-07-13</td>\n",
       "      <td>2021-07-13</td>\n",
       "      <td>1</td>\n",
       "      <td>0</td>\n",
       "      <td>1134</td>\n",
       "    </tr>\n",
       "    <tr>\n",
       "      <th>3</th>\n",
       "      <td>18.00</td>\n",
       "      <td>Prod1</td>\n",
       "      <td>11283.33</td>\n",
       "      <td>30.00</td>\n",
       "      <td>17.50</td>\n",
       "      <td>2023-08-24</td>\n",
       "      <td>2023-09-28</td>\n",
       "      <td>3</td>\n",
       "      <td>35</td>\n",
       "      <td>362</td>\n",
       "    </tr>\n",
       "    <tr>\n",
       "      <th>4</th>\n",
       "      <td>18.00</td>\n",
       "      <td>Prod2</td>\n",
       "      <td>12095.00</td>\n",
       "      <td>41.00</td>\n",
       "      <td>100.00</td>\n",
       "      <td>2023-09-19</td>\n",
       "      <td>2023-12-28</td>\n",
       "      <td>2</td>\n",
       "      <td>100</td>\n",
       "      <td>336</td>\n",
       "    </tr>\n",
       "  </tbody>\n",
       "</table>\n",
       "</div>"
      ],
      "text/plain": [
       "   ACCOUNT_ID PRODUCT  monetary_value  QUANTITY_mean  \\\n",
       "0       10.00   Prod1         7600.00          20.00   \n",
       "1       12.00   Prod1         5533.33          13.89   \n",
       "2       13.00   Prod1         1950.00           5.00   \n",
       "3       18.00   Prod1        11283.33          30.00   \n",
       "4       18.00   Prod2        12095.00          41.00   \n",
       "\n",
       "   TIME_BETWEEN_ORDERS_mean ORDER_DATE_min ORDER_DATE_max  frequency  recency  \\\n",
       "0                       NaN     2024-06-27     2024-06-27          1        0   \n",
       "1                     64.88     2021-10-27     2023-03-30          9      519   \n",
       "2                       NaN     2021-07-13     2021-07-13          1        0   \n",
       "3                     17.50     2023-08-24     2023-09-28          3       35   \n",
       "4                    100.00     2023-09-19     2023-12-28          2      100   \n",
       "\n",
       "      T  \n",
       "0    54  \n",
       "1  1028  \n",
       "2  1134  \n",
       "3   362  \n",
       "4   336  "
      ]
     },
     "execution_count": 42,
     "metadata": {},
     "output_type": "execute_result"
    }
   ],
   "source": [
    "orders_df_grouped.head()"
   ]
  },
  {
   "attachments": {},
   "cell_type": "markdown",
   "metadata": {},
   "source": [
    "### CLV dataset preparation"
   ]
  },
  {
   "cell_type": "code",
   "execution_count": 43,
   "metadata": {},
   "outputs": [],
   "source": [
    "clv_dataset = orders_df_grouped[['ACCOUNT_ID', 'PRODUCT', 'frequency', 'recency', 'T', 'monetary_value']]\n",
    "clv_dataset.set_index('ACCOUNT_ID', inplace=True)"
   ]
  },
  {
   "cell_type": "code",
   "execution_count": 44,
   "metadata": {},
   "outputs": [],
   "source": [
    "# Just keep those ship tos that purchased more than once\n",
    "clv_dataset = clv_dataset[clv_dataset['frequency'] >= 2]"
   ]
  },
  {
   "attachments": {},
   "cell_type": "markdown",
   "metadata": {},
   "source": [
    "## Prod1"
   ]
  },
  {
   "cell_type": "code",
   "execution_count": 45,
   "metadata": {},
   "outputs": [],
   "source": [
    "prod1_clv_dataset = clv_dataset[clv_dataset['PRODUCT'] == 'Prod1']"
   ]
  },
  {
   "attachments": {},
   "cell_type": "markdown",
   "metadata": {},
   "source": [
    "#### BG/NBD model - BetaGeoFitter to predict Number of Purchases"
   ]
  },
  {
   "cell_type": "code",
   "execution_count": 46,
   "metadata": {},
   "outputs": [
    {
     "data": {
      "text/plain": [
       "<lifetimes.BetaGeoFitter: fitted with 7170 subjects, a: 0.40, alpha: 166.98, b: 3.68, r: 2.36>"
      ]
     },
     "execution_count": 46,
     "metadata": {},
     "output_type": "execute_result"
    }
   ],
   "source": [
    "prod1_bgf = BetaGeoFitter(penalizer_coef=0.001)\n",
    "\n",
    "prod1_bgf.fit(prod1_clv_dataset['frequency'], prod1_clv_dataset['recency'], prod1_clv_dataset['T'])"
   ]
  },
  {
   "cell_type": "code",
   "execution_count": 47,
   "metadata": {},
   "outputs": [],
   "source": [
    "t = 180 # define day period\n",
    "\n",
    "prod1_clv_dataset['expected_num_purchases_6_months'] = prod1_bgf.conditional_expected_number_of_purchases_up_to_time(t, prod1_clv_dataset['frequency'], \n",
    "                                                                                                                    prod1_clv_dataset['recency'], \n",
    "                                                                                                                    prod1_clv_dataset['T'])"
   ]
  },
  {
   "cell_type": "code",
   "execution_count": 48,
   "metadata": {},
   "outputs": [
    {
     "data": {
      "text/html": [
       "<div>\n",
       "<style scoped>\n",
       "    .dataframe tbody tr th:only-of-type {\n",
       "        vertical-align: middle;\n",
       "    }\n",
       "\n",
       "    .dataframe tbody tr th {\n",
       "        vertical-align: top;\n",
       "    }\n",
       "\n",
       "    .dataframe thead th {\n",
       "        text-align: right;\n",
       "    }\n",
       "</style>\n",
       "<table border=\"1\" class=\"dataframe\">\n",
       "  <thead>\n",
       "    <tr style=\"text-align: right;\">\n",
       "      <th></th>\n",
       "      <th>PRODUCT</th>\n",
       "      <th>frequency</th>\n",
       "      <th>recency</th>\n",
       "      <th>T</th>\n",
       "      <th>monetary_value</th>\n",
       "      <th>expected_num_purchases_6_months</th>\n",
       "    </tr>\n",
       "    <tr>\n",
       "      <th>ACCOUNT_ID</th>\n",
       "      <th></th>\n",
       "      <th></th>\n",
       "      <th></th>\n",
       "      <th></th>\n",
       "      <th></th>\n",
       "      <th></th>\n",
       "    </tr>\n",
       "  </thead>\n",
       "  <tbody>\n",
       "    <tr>\n",
       "      <th>39421.00</th>\n",
       "      <td>Prod1</td>\n",
       "      <td>51</td>\n",
       "      <td>325</td>\n",
       "      <td>330</td>\n",
       "      <td>4585.29</td>\n",
       "      <td>17.92</td>\n",
       "    </tr>\n",
       "    <tr>\n",
       "      <th>87657.00</th>\n",
       "      <td>Prod1</td>\n",
       "      <td>121</td>\n",
       "      <td>1130</td>\n",
       "      <td>1134</td>\n",
       "      <td>4120.95</td>\n",
       "      <td>16.55</td>\n",
       "    </tr>\n",
       "    <tr>\n",
       "      <th>74967.00</th>\n",
       "      <td>Prod1</td>\n",
       "      <td>73</td>\n",
       "      <td>686</td>\n",
       "      <td>687</td>\n",
       "      <td>3608.04</td>\n",
       "      <td>15.20</td>\n",
       "    </tr>\n",
       "    <tr>\n",
       "      <th>62024.00</th>\n",
       "      <td>Prod1</td>\n",
       "      <td>125</td>\n",
       "      <td>1368</td>\n",
       "      <td>1369</td>\n",
       "      <td>2375.08</td>\n",
       "      <td>14.55</td>\n",
       "    </tr>\n",
       "    <tr>\n",
       "      <th>40763.00</th>\n",
       "      <td>Prod1</td>\n",
       "      <td>85</td>\n",
       "      <td>904</td>\n",
       "      <td>904</td>\n",
       "      <td>7271.82</td>\n",
       "      <td>14.17</td>\n",
       "    </tr>\n",
       "  </tbody>\n",
       "</table>\n",
       "</div>"
      ],
      "text/plain": [
       "           PRODUCT  frequency  recency     T  monetary_value  \\\n",
       "ACCOUNT_ID                                                     \n",
       "39421.00     Prod1         51      325   330         4585.29   \n",
       "87657.00     Prod1        121     1130  1134         4120.95   \n",
       "74967.00     Prod1         73      686   687         3608.04   \n",
       "62024.00     Prod1        125     1368  1369         2375.08   \n",
       "40763.00     Prod1         85      904   904         7271.82   \n",
       "\n",
       "            expected_num_purchases_6_months  \n",
       "ACCOUNT_ID                                   \n",
       "39421.00                              17.92  \n",
       "87657.00                              16.55  \n",
       "74967.00                              15.20  \n",
       "62024.00                              14.55  \n",
       "40763.00                              14.17  "
      ]
     },
     "execution_count": 48,
     "metadata": {},
     "output_type": "execute_result"
    }
   ],
   "source": [
    "# Check top 5 predictions\n",
    "prod1_clv_dataset.sort_values(by='expected_num_purchases_6_months', ascending=False).head(5)"
   ]
  },
  {
   "cell_type": "code",
   "execution_count": 49,
   "metadata": {},
   "outputs": [
    {
     "data": {
      "text/html": [
       "<div>\n",
       "<style scoped>\n",
       "    .dataframe tbody tr th:only-of-type {\n",
       "        vertical-align: middle;\n",
       "    }\n",
       "\n",
       "    .dataframe tbody tr th {\n",
       "        vertical-align: top;\n",
       "    }\n",
       "\n",
       "    .dataframe thead th {\n",
       "        text-align: right;\n",
       "    }\n",
       "</style>\n",
       "<table border=\"1\" class=\"dataframe\">\n",
       "  <thead>\n",
       "    <tr style=\"text-align: right;\">\n",
       "      <th></th>\n",
       "      <th>PRODUCT</th>\n",
       "      <th>frequency</th>\n",
       "      <th>recency</th>\n",
       "      <th>T</th>\n",
       "      <th>monetary_value</th>\n",
       "      <th>expected_num_purchases_6_months</th>\n",
       "    </tr>\n",
       "    <tr>\n",
       "      <th>ACCOUNT_ID</th>\n",
       "      <th></th>\n",
       "      <th></th>\n",
       "      <th></th>\n",
       "      <th></th>\n",
       "      <th></th>\n",
       "      <th></th>\n",
       "    </tr>\n",
       "  </thead>\n",
       "  <tbody>\n",
       "    <tr>\n",
       "      <th>66786.00</th>\n",
       "      <td>Prod1</td>\n",
       "      <td>4</td>\n",
       "      <td>439</td>\n",
       "      <td>494</td>\n",
       "      <td>36500.00</td>\n",
       "      <td>1.50</td>\n",
       "    </tr>\n",
       "    <tr>\n",
       "      <th>69773.00</th>\n",
       "      <td>Prod1</td>\n",
       "      <td>2</td>\n",
       "      <td>367</td>\n",
       "      <td>890</td>\n",
       "      <td>36500.00</td>\n",
       "      <td>0.27</td>\n",
       "    </tr>\n",
       "  </tbody>\n",
       "</table>\n",
       "</div>"
      ],
      "text/plain": [
       "           PRODUCT  frequency  recency    T  monetary_value  \\\n",
       "ACCOUNT_ID                                                    \n",
       "66786.00     Prod1          4      439  494        36500.00   \n",
       "69773.00     Prod1          2      367  890        36500.00   \n",
       "\n",
       "            expected_num_purchases_6_months  \n",
       "ACCOUNT_ID                                   \n",
       "66786.00                               1.50  \n",
       "69773.00                               0.27  "
      ]
     },
     "execution_count": 49,
     "metadata": {},
     "output_type": "execute_result"
    }
   ],
   "source": [
    "# Highest purchases in monetary value\n",
    "prod1_clv_dataset[prod1_clv_dataset['monetary_value'] == prod1_clv_dataset['monetary_value'].max()]"
   ]
  },
  {
   "attachments": {},
   "cell_type": "markdown",
   "metadata": {},
   "source": [
    "#### Gamma-Gamma model to predict Monetary Value"
   ]
  },
  {
   "attachments": {},
   "cell_type": "markdown",
   "metadata": {},
   "source": [
    "In order to use the Gamma-Gamma model, we need to make sure that there is no correlation between frequency and monetary value."
   ]
  },
  {
   "cell_type": "code",
   "execution_count": 50,
   "metadata": {},
   "outputs": [
    {
     "data": {
      "text/html": [
       "<div>\n",
       "<style scoped>\n",
       "    .dataframe tbody tr th:only-of-type {\n",
       "        vertical-align: middle;\n",
       "    }\n",
       "\n",
       "    .dataframe tbody tr th {\n",
       "        vertical-align: top;\n",
       "    }\n",
       "\n",
       "    .dataframe thead th {\n",
       "        text-align: right;\n",
       "    }\n",
       "</style>\n",
       "<table border=\"1\" class=\"dataframe\">\n",
       "  <thead>\n",
       "    <tr style=\"text-align: right;\">\n",
       "      <th></th>\n",
       "      <th>frequency</th>\n",
       "      <th>monetary_value</th>\n",
       "    </tr>\n",
       "  </thead>\n",
       "  <tbody>\n",
       "    <tr>\n",
       "      <th>frequency</th>\n",
       "      <td>1.00</td>\n",
       "      <td>-0.02</td>\n",
       "    </tr>\n",
       "    <tr>\n",
       "      <th>monetary_value</th>\n",
       "      <td>-0.02</td>\n",
       "      <td>1.00</td>\n",
       "    </tr>\n",
       "  </tbody>\n",
       "</table>\n",
       "</div>"
      ],
      "text/plain": [
       "                frequency  monetary_value\n",
       "frequency            1.00           -0.02\n",
       "monetary_value      -0.02            1.00"
      ]
     },
     "execution_count": 50,
     "metadata": {},
     "output_type": "execute_result"
    }
   ],
   "source": [
    "prod1_clv_dataset[['frequency', 'monetary_value']].corr()"
   ]
  },
  {
   "cell_type": "code",
   "execution_count": 51,
   "metadata": {},
   "outputs": [
    {
     "data": {
      "text/plain": [
       "<lifetimes.GammaGammaFitter: fitted with 7170 subjects, p: 2.86, q: 0.16, v: 2.80>"
      ]
     },
     "execution_count": 51,
     "metadata": {},
     "output_type": "execute_result"
    }
   ],
   "source": [
    "prod1_ggf = GammaGammaFitter(penalizer_coef=0.01)\n",
    "\n",
    "prod1_ggf.fit(prod1_clv_dataset[\"frequency\"], prod1_clv_dataset[\"monetary_value\"])"
   ]
  },
  {
   "attachments": {},
   "cell_type": "markdown",
   "metadata": {},
   "source": [
    "### Prod1 Predict CLV for next 6 months"
   ]
  },
  {
   "cell_type": "code",
   "execution_count": 52,
   "metadata": {},
   "outputs": [],
   "source": [
    "prod1_clv_dataset['6_months_clv'] = prod1_ggf.customer_lifetime_value(prod1_bgf,\n",
    "                                                                   prod1_clv_dataset[\"frequency\"],\n",
    "                                                                   prod1_clv_dataset[\"recency\"],\n",
    "                                                                   prod1_clv_dataset[\"T\"],\n",
    "                                                                   prod1_clv_dataset[\"monetary_value\"],\n",
    "                                                                   time=6, # in months\n",
    "                                                                   freq='D',\n",
    "                                                                   discount_rate=0.01)"
   ]
  },
  {
   "cell_type": "code",
   "execution_count": 53,
   "metadata": {},
   "outputs": [
    {
     "data": {
      "text/html": [
       "<div>\n",
       "<style scoped>\n",
       "    .dataframe tbody tr th:only-of-type {\n",
       "        vertical-align: middle;\n",
       "    }\n",
       "\n",
       "    .dataframe tbody tr th {\n",
       "        vertical-align: top;\n",
       "    }\n",
       "\n",
       "    .dataframe thead th {\n",
       "        text-align: right;\n",
       "    }\n",
       "</style>\n",
       "<table border=\"1\" class=\"dataframe\">\n",
       "  <thead>\n",
       "    <tr style=\"text-align: right;\">\n",
       "      <th></th>\n",
       "      <th>PRODUCT</th>\n",
       "      <th>frequency</th>\n",
       "      <th>recency</th>\n",
       "      <th>T</th>\n",
       "      <th>monetary_value</th>\n",
       "      <th>expected_num_purchases_6_months</th>\n",
       "      <th>6_months_clv</th>\n",
       "    </tr>\n",
       "    <tr>\n",
       "      <th>ACCOUNT_ID</th>\n",
       "      <th></th>\n",
       "      <th></th>\n",
       "      <th></th>\n",
       "      <th></th>\n",
       "      <th></th>\n",
       "      <th></th>\n",
       "      <th></th>\n",
       "    </tr>\n",
       "  </thead>\n",
       "  <tbody>\n",
       "    <tr>\n",
       "      <th>84340.00</th>\n",
       "      <td>Prod1</td>\n",
       "      <td>7</td>\n",
       "      <td>104</td>\n",
       "      <td>125</td>\n",
       "      <td>29757.14</td>\n",
       "      <td>4.84</td>\n",
       "      <td>145467.74</td>\n",
       "    </tr>\n",
       "    <tr>\n",
       "      <th>51379.00</th>\n",
       "      <td>Prod1</td>\n",
       "      <td>58</td>\n",
       "      <td>1069</td>\n",
       "      <td>1097</td>\n",
       "      <td>16921.90</td>\n",
       "      <td>8.16</td>\n",
       "      <td>134156.36</td>\n",
       "    </tr>\n",
       "    <tr>\n",
       "      <th>4475.00</th>\n",
       "      <td>Prod1</td>\n",
       "      <td>41</td>\n",
       "      <td>1165</td>\n",
       "      <td>1183</td>\n",
       "      <td>21671.34</td>\n",
       "      <td>5.55</td>\n",
       "      <td>117026.41</td>\n",
       "    </tr>\n",
       "    <tr>\n",
       "      <th>85727.00</th>\n",
       "      <td>Prod1</td>\n",
       "      <td>72</td>\n",
       "      <td>1403</td>\n",
       "      <td>1428</td>\n",
       "      <td>13651.18</td>\n",
       "      <td>8.08</td>\n",
       "      <td>106948.05</td>\n",
       "    </tr>\n",
       "    <tr>\n",
       "      <th>40763.00</th>\n",
       "      <td>Prod1</td>\n",
       "      <td>85</td>\n",
       "      <td>904</td>\n",
       "      <td>904</td>\n",
       "      <td>7271.82</td>\n",
       "      <td>14.17</td>\n",
       "      <td>99886.99</td>\n",
       "    </tr>\n",
       "  </tbody>\n",
       "</table>\n",
       "</div>"
      ],
      "text/plain": [
       "           PRODUCT  frequency  recency     T  monetary_value  \\\n",
       "ACCOUNT_ID                                                     \n",
       "84340.00     Prod1          7      104   125        29757.14   \n",
       "51379.00     Prod1         58     1069  1097        16921.90   \n",
       "4475.00      Prod1         41     1165  1183        21671.34   \n",
       "85727.00     Prod1         72     1403  1428        13651.18   \n",
       "40763.00     Prod1         85      904   904         7271.82   \n",
       "\n",
       "            expected_num_purchases_6_months  6_months_clv  \n",
       "ACCOUNT_ID                                                 \n",
       "84340.00                               4.84     145467.74  \n",
       "51379.00                               8.16     134156.36  \n",
       "4475.00                                5.55     117026.41  \n",
       "85727.00                               8.08     106948.05  \n",
       "40763.00                              14.17      99886.99  "
      ]
     },
     "execution_count": 53,
     "metadata": {},
     "output_type": "execute_result"
    }
   ],
   "source": [
    "prod1_clv_dataset.sort_values('6_months_clv', ascending=False).head()"
   ]
  },
  {
   "cell_type": "code",
   "execution_count": 54,
   "metadata": {},
   "outputs": [
    {
     "name": "stdout",
     "output_type": "stream",
     "text": [
      "Prod1 sum expected revenue in 6 months $63,812,054\n"
     ]
    }
   ],
   "source": [
    "prod1_sum_expected_revenue_6_months = prod1_clv_dataset['6_months_clv'].sum()\n",
    "print(f'Prod1 sum expected revenue in 6 months ${prod1_sum_expected_revenue_6_months:,.0f}')"
   ]
  },
  {
   "attachments": {},
   "cell_type": "markdown",
   "metadata": {},
   "source": [
    "## Prod2"
   ]
  },
  {
   "cell_type": "code",
   "execution_count": 55,
   "metadata": {},
   "outputs": [],
   "source": [
    "prod2_clv_dataset = clv_dataset[clv_dataset['PRODUCT'] == 'Prod2']"
   ]
  },
  {
   "attachments": {},
   "cell_type": "markdown",
   "metadata": {},
   "source": [
    "#### BG/NBD model - BetaGeoFitter to predict Number of Purchases"
   ]
  },
  {
   "cell_type": "code",
   "execution_count": 56,
   "metadata": {},
   "outputs": [
    {
     "data": {
      "text/plain": [
       "<lifetimes.BetaGeoFitter: fitted with 3242 subjects, a: 0.24, alpha: 455.15, b: 3.13, r: 5.22>"
      ]
     },
     "execution_count": 56,
     "metadata": {},
     "output_type": "execute_result"
    }
   ],
   "source": [
    "prod2_bgf = BetaGeoFitter(penalizer_coef=0.001)\n",
    "\n",
    "prod2_bgf.fit(prod2_clv_dataset['frequency'], prod2_clv_dataset['recency'], prod2_clv_dataset['T'])"
   ]
  },
  {
   "cell_type": "code",
   "execution_count": 57,
   "metadata": {},
   "outputs": [],
   "source": [
    "t = 180 # define day period\n",
    "\n",
    "prod2_clv_dataset['expected_num_purchases_6_months'] = prod2_bgf.conditional_expected_number_of_purchases_up_to_time(t, prod2_clv_dataset['frequency'], \n",
    "                                                                                                                      prod2_clv_dataset['recency'], \n",
    "                                                                                                                      prod2_clv_dataset['T'])"
   ]
  },
  {
   "cell_type": "code",
   "execution_count": 58,
   "metadata": {},
   "outputs": [
    {
     "data": {
      "text/html": [
       "<div>\n",
       "<style scoped>\n",
       "    .dataframe tbody tr th:only-of-type {\n",
       "        vertical-align: middle;\n",
       "    }\n",
       "\n",
       "    .dataframe tbody tr th {\n",
       "        vertical-align: top;\n",
       "    }\n",
       "\n",
       "    .dataframe thead th {\n",
       "        text-align: right;\n",
       "    }\n",
       "</style>\n",
       "<table border=\"1\" class=\"dataframe\">\n",
       "  <thead>\n",
       "    <tr style=\"text-align: right;\">\n",
       "      <th></th>\n",
       "      <th>PRODUCT</th>\n",
       "      <th>frequency</th>\n",
       "      <th>recency</th>\n",
       "      <th>T</th>\n",
       "      <th>monetary_value</th>\n",
       "      <th>expected_num_purchases_6_months</th>\n",
       "    </tr>\n",
       "    <tr>\n",
       "      <th>ACCOUNT_ID</th>\n",
       "      <th></th>\n",
       "      <th></th>\n",
       "      <th></th>\n",
       "      <th></th>\n",
       "      <th></th>\n",
       "      <th></th>\n",
       "    </tr>\n",
       "  </thead>\n",
       "  <tbody>\n",
       "    <tr>\n",
       "      <th>27954.00</th>\n",
       "      <td>Prod2</td>\n",
       "      <td>32</td>\n",
       "      <td>616</td>\n",
       "      <td>624</td>\n",
       "      <td>15316.41</td>\n",
       "      <td>6.03</td>\n",
       "    </tr>\n",
       "    <tr>\n",
       "      <th>71334.00</th>\n",
       "      <td>Prod2</td>\n",
       "      <td>22</td>\n",
       "      <td>385</td>\n",
       "      <td>391</td>\n",
       "      <td>6730.68</td>\n",
       "      <td>5.57</td>\n",
       "    </tr>\n",
       "    <tr>\n",
       "      <th>39421.00</th>\n",
       "      <td>Prod2</td>\n",
       "      <td>19</td>\n",
       "      <td>270</td>\n",
       "      <td>292</td>\n",
       "      <td>3486.84</td>\n",
       "      <td>5.53</td>\n",
       "    </tr>\n",
       "    <tr>\n",
       "      <th>57161.00</th>\n",
       "      <td>Prod2</td>\n",
       "      <td>20</td>\n",
       "      <td>337</td>\n",
       "      <td>348</td>\n",
       "      <td>6168.75</td>\n",
       "      <td>5.41</td>\n",
       "    </tr>\n",
       "    <tr>\n",
       "      <th>21238.00</th>\n",
       "      <td>Prod2</td>\n",
       "      <td>23</td>\n",
       "      <td>455</td>\n",
       "      <td>483</td>\n",
       "      <td>6929.35</td>\n",
       "      <td>5.17</td>\n",
       "    </tr>\n",
       "  </tbody>\n",
       "</table>\n",
       "</div>"
      ],
      "text/plain": [
       "           PRODUCT  frequency  recency    T  monetary_value  \\\n",
       "ACCOUNT_ID                                                    \n",
       "27954.00     Prod2         32      616  624        15316.41   \n",
       "71334.00     Prod2         22      385  391         6730.68   \n",
       "39421.00     Prod2         19      270  292         3486.84   \n",
       "57161.00     Prod2         20      337  348         6168.75   \n",
       "21238.00     Prod2         23      455  483         6929.35   \n",
       "\n",
       "            expected_num_purchases_6_months  \n",
       "ACCOUNT_ID                                   \n",
       "27954.00                               6.03  \n",
       "71334.00                               5.57  \n",
       "39421.00                               5.53  \n",
       "57161.00                               5.41  \n",
       "21238.00                               5.17  "
      ]
     },
     "execution_count": 58,
     "metadata": {},
     "output_type": "execute_result"
    }
   ],
   "source": [
    "# Check top 5 predictions\n",
    "prod2_clv_dataset.sort_values(by='expected_num_purchases_6_months', ascending=False).head(5)"
   ]
  },
  {
   "cell_type": "code",
   "execution_count": 59,
   "metadata": {},
   "outputs": [
    {
     "data": {
      "text/html": [
       "<div>\n",
       "<style scoped>\n",
       "    .dataframe tbody tr th:only-of-type {\n",
       "        vertical-align: middle;\n",
       "    }\n",
       "\n",
       "    .dataframe tbody tr th {\n",
       "        vertical-align: top;\n",
       "    }\n",
       "\n",
       "    .dataframe thead th {\n",
       "        text-align: right;\n",
       "    }\n",
       "</style>\n",
       "<table border=\"1\" class=\"dataframe\">\n",
       "  <thead>\n",
       "    <tr style=\"text-align: right;\">\n",
       "      <th></th>\n",
       "      <th>PRODUCT</th>\n",
       "      <th>frequency</th>\n",
       "      <th>recency</th>\n",
       "      <th>T</th>\n",
       "      <th>monetary_value</th>\n",
       "      <th>expected_num_purchases_6_months</th>\n",
       "    </tr>\n",
       "    <tr>\n",
       "      <th>ACCOUNT_ID</th>\n",
       "      <th></th>\n",
       "      <th></th>\n",
       "      <th></th>\n",
       "      <th></th>\n",
       "      <th></th>\n",
       "      <th></th>\n",
       "    </tr>\n",
       "  </thead>\n",
       "  <tbody>\n",
       "    <tr>\n",
       "      <th>7784.00</th>\n",
       "      <td>Prod2</td>\n",
       "      <td>14</td>\n",
       "      <td>573</td>\n",
       "      <td>677</td>\n",
       "      <td>36500.00</td>\n",
       "      <td>2.73</td>\n",
       "    </tr>\n",
       "    <tr>\n",
       "      <th>17506.00</th>\n",
       "      <td>Prod2</td>\n",
       "      <td>2</td>\n",
       "      <td>64</td>\n",
       "      <td>118</td>\n",
       "      <td>36500.00</td>\n",
       "      <td>1.92</td>\n",
       "    </tr>\n",
       "    <tr>\n",
       "      <th>25733.00</th>\n",
       "      <td>Prod2</td>\n",
       "      <td>3</td>\n",
       "      <td>201</td>\n",
       "      <td>439</td>\n",
       "      <td>36500.00</td>\n",
       "      <td>1.00</td>\n",
       "    </tr>\n",
       "    <tr>\n",
       "      <th>30778.00</th>\n",
       "      <td>Prod2</td>\n",
       "      <td>3</td>\n",
       "      <td>473</td>\n",
       "      <td>624</td>\n",
       "      <td>36500.00</td>\n",
       "      <td>1.15</td>\n",
       "    </tr>\n",
       "    <tr>\n",
       "      <th>31397.00</th>\n",
       "      <td>Prod2</td>\n",
       "      <td>5</td>\n",
       "      <td>424</td>\n",
       "      <td>624</td>\n",
       "      <td>36500.00</td>\n",
       "      <td>1.30</td>\n",
       "    </tr>\n",
       "    <tr>\n",
       "      <th>32102.00</th>\n",
       "      <td>Prod2</td>\n",
       "      <td>2</td>\n",
       "      <td>356</td>\n",
       "      <td>397</td>\n",
       "      <td>36500.00</td>\n",
       "      <td>1.36</td>\n",
       "    </tr>\n",
       "    <tr>\n",
       "      <th>47946.00</th>\n",
       "      <td>Prod2</td>\n",
       "      <td>2</td>\n",
       "      <td>15</td>\n",
       "      <td>70</td>\n",
       "      <td>36500.00</td>\n",
       "      <td>2.07</td>\n",
       "    </tr>\n",
       "    <tr>\n",
       "      <th>53367.00</th>\n",
       "      <td>Prod2</td>\n",
       "      <td>2</td>\n",
       "      <td>162</td>\n",
       "      <td>509</td>\n",
       "      <td>36500.00</td>\n",
       "      <td>0.53</td>\n",
       "    </tr>\n",
       "    <tr>\n",
       "      <th>62144.00</th>\n",
       "      <td>Prod2</td>\n",
       "      <td>3</td>\n",
       "      <td>250</td>\n",
       "      <td>620</td>\n",
       "      <td>36500.00</td>\n",
       "      <td>0.53</td>\n",
       "    </tr>\n",
       "    <tr>\n",
       "      <th>68296.00</th>\n",
       "      <td>Prod2</td>\n",
       "      <td>4</td>\n",
       "      <td>388</td>\n",
       "      <td>624</td>\n",
       "      <td>36500.00</td>\n",
       "      <td>1.08</td>\n",
       "    </tr>\n",
       "    <tr>\n",
       "      <th>76740.00</th>\n",
       "      <td>Prod2</td>\n",
       "      <td>2</td>\n",
       "      <td>109</td>\n",
       "      <td>529</td>\n",
       "      <td>36500.00</td>\n",
       "      <td>0.30</td>\n",
       "    </tr>\n",
       "    <tr>\n",
       "      <th>77544.00</th>\n",
       "      <td>Prod2</td>\n",
       "      <td>2</td>\n",
       "      <td>168</td>\n",
       "      <td>624</td>\n",
       "      <td>36500.00</td>\n",
       "      <td>0.29</td>\n",
       "    </tr>\n",
       "    <tr>\n",
       "      <th>84340.00</th>\n",
       "      <td>Prod2</td>\n",
       "      <td>6</td>\n",
       "      <td>100</td>\n",
       "      <td>125</td>\n",
       "      <td>36500.00</td>\n",
       "      <td>3.18</td>\n",
       "    </tr>\n",
       "    <tr>\n",
       "      <th>90279.00</th>\n",
       "      <td>Prod2</td>\n",
       "      <td>2</td>\n",
       "      <td>296</td>\n",
       "      <td>624</td>\n",
       "      <td>36500.00</td>\n",
       "      <td>0.65</td>\n",
       "    </tr>\n",
       "    <tr>\n",
       "      <th>99942.00</th>\n",
       "      <td>Prod2</td>\n",
       "      <td>11</td>\n",
       "      <td>511</td>\n",
       "      <td>523</td>\n",
       "      <td>36500.00</td>\n",
       "      <td>2.85</td>\n",
       "    </tr>\n",
       "  </tbody>\n",
       "</table>\n",
       "</div>"
      ],
      "text/plain": [
       "           PRODUCT  frequency  recency    T  monetary_value  \\\n",
       "ACCOUNT_ID                                                    \n",
       "7784.00      Prod2         14      573  677        36500.00   \n",
       "17506.00     Prod2          2       64  118        36500.00   \n",
       "25733.00     Prod2          3      201  439        36500.00   \n",
       "30778.00     Prod2          3      473  624        36500.00   \n",
       "31397.00     Prod2          5      424  624        36500.00   \n",
       "32102.00     Prod2          2      356  397        36500.00   \n",
       "47946.00     Prod2          2       15   70        36500.00   \n",
       "53367.00     Prod2          2      162  509        36500.00   \n",
       "62144.00     Prod2          3      250  620        36500.00   \n",
       "68296.00     Prod2          4      388  624        36500.00   \n",
       "76740.00     Prod2          2      109  529        36500.00   \n",
       "77544.00     Prod2          2      168  624        36500.00   \n",
       "84340.00     Prod2          6      100  125        36500.00   \n",
       "90279.00     Prod2          2      296  624        36500.00   \n",
       "99942.00     Prod2         11      511  523        36500.00   \n",
       "\n",
       "            expected_num_purchases_6_months  \n",
       "ACCOUNT_ID                                   \n",
       "7784.00                                2.73  \n",
       "17506.00                               1.92  \n",
       "25733.00                               1.00  \n",
       "30778.00                               1.15  \n",
       "31397.00                               1.30  \n",
       "32102.00                               1.36  \n",
       "47946.00                               2.07  \n",
       "53367.00                               0.53  \n",
       "62144.00                               0.53  \n",
       "68296.00                               1.08  \n",
       "76740.00                               0.30  \n",
       "77544.00                               0.29  \n",
       "84340.00                               3.18  \n",
       "90279.00                               0.65  \n",
       "99942.00                               2.85  "
      ]
     },
     "execution_count": 59,
     "metadata": {},
     "output_type": "execute_result"
    }
   ],
   "source": [
    "# Highest purchases in monetary value\n",
    "prod2_clv_dataset[prod2_clv_dataset['monetary_value'] == prod2_clv_dataset['monetary_value'].max()]"
   ]
  },
  {
   "attachments": {},
   "cell_type": "markdown",
   "metadata": {},
   "source": [
    "#### Gamma-Gamma model to predict Monetary Value"
   ]
  },
  {
   "attachments": {},
   "cell_type": "markdown",
   "metadata": {},
   "source": [
    "In order to use the Gamma-Gamma model, we need to make sure that there is no correlation between frequency and monetary value."
   ]
  },
  {
   "cell_type": "code",
   "execution_count": 60,
   "metadata": {},
   "outputs": [
    {
     "data": {
      "text/html": [
       "<div>\n",
       "<style scoped>\n",
       "    .dataframe tbody tr th:only-of-type {\n",
       "        vertical-align: middle;\n",
       "    }\n",
       "\n",
       "    .dataframe tbody tr th {\n",
       "        vertical-align: top;\n",
       "    }\n",
       "\n",
       "    .dataframe thead th {\n",
       "        text-align: right;\n",
       "    }\n",
       "</style>\n",
       "<table border=\"1\" class=\"dataframe\">\n",
       "  <thead>\n",
       "    <tr style=\"text-align: right;\">\n",
       "      <th></th>\n",
       "      <th>frequency</th>\n",
       "      <th>monetary_value</th>\n",
       "    </tr>\n",
       "  </thead>\n",
       "  <tbody>\n",
       "    <tr>\n",
       "      <th>frequency</th>\n",
       "      <td>1.00</td>\n",
       "      <td>0.14</td>\n",
       "    </tr>\n",
       "    <tr>\n",
       "      <th>monetary_value</th>\n",
       "      <td>0.14</td>\n",
       "      <td>1.00</td>\n",
       "    </tr>\n",
       "  </tbody>\n",
       "</table>\n",
       "</div>"
      ],
      "text/plain": [
       "                frequency  monetary_value\n",
       "frequency            1.00            0.14\n",
       "monetary_value       0.14            1.00"
      ]
     },
     "execution_count": 60,
     "metadata": {},
     "output_type": "execute_result"
    }
   ],
   "source": [
    "prod2_clv_dataset[['frequency','monetary_value']].corr()"
   ]
  },
  {
   "cell_type": "code",
   "execution_count": 61,
   "metadata": {},
   "outputs": [
    {
     "data": {
      "text/plain": [
       "<lifetimes.GammaGammaFitter: fitted with 3242 subjects, p: 2.79, q: 0.15, v: 2.71>"
      ]
     },
     "execution_count": 61,
     "metadata": {},
     "output_type": "execute_result"
    }
   ],
   "source": [
    "prod2_ggf = GammaGammaFitter(penalizer_coef=0.01)\n",
    "\n",
    "prod2_ggf.fit(prod2_clv_dataset[\"frequency\"], prod2_clv_dataset[\"monetary_value\"])"
   ]
  },
  {
   "attachments": {},
   "cell_type": "markdown",
   "metadata": {},
   "source": [
    "### Prod2 Predict CLV for next 6 months"
   ]
  },
  {
   "cell_type": "code",
   "execution_count": 62,
   "metadata": {},
   "outputs": [],
   "source": [
    "prod2_clv_dataset['6_months_clv'] = prod2_ggf.customer_lifetime_value(prod2_bgf,\n",
    "                                                                    prod2_clv_dataset[\"frequency\"],\n",
    "                                                                    prod2_clv_dataset[\"recency\"],\n",
    "                                                                    prod2_clv_dataset[\"T\"],\n",
    "                                                                    prod2_clv_dataset[\"monetary_value\"],\n",
    "                                                                    time=6,\n",
    "                                                                    freq='D',\n",
    "                                                                    discount_rate=0.01)"
   ]
  },
  {
   "cell_type": "code",
   "execution_count": 63,
   "metadata": {},
   "outputs": [
    {
     "data": {
      "text/html": [
       "<div>\n",
       "<style scoped>\n",
       "    .dataframe tbody tr th:only-of-type {\n",
       "        vertical-align: middle;\n",
       "    }\n",
       "\n",
       "    .dataframe tbody tr th {\n",
       "        vertical-align: top;\n",
       "    }\n",
       "\n",
       "    .dataframe thead th {\n",
       "        text-align: right;\n",
       "    }\n",
       "</style>\n",
       "<table border=\"1\" class=\"dataframe\">\n",
       "  <thead>\n",
       "    <tr style=\"text-align: right;\">\n",
       "      <th></th>\n",
       "      <th>PRODUCT</th>\n",
       "      <th>frequency</th>\n",
       "      <th>recency</th>\n",
       "      <th>T</th>\n",
       "      <th>monetary_value</th>\n",
       "      <th>expected_num_purchases_6_months</th>\n",
       "      <th>6_months_clv</th>\n",
       "    </tr>\n",
       "    <tr>\n",
       "      <th>ACCOUNT_ID</th>\n",
       "      <th></th>\n",
       "      <th></th>\n",
       "      <th></th>\n",
       "      <th></th>\n",
       "      <th></th>\n",
       "      <th></th>\n",
       "      <th></th>\n",
       "    </tr>\n",
       "  </thead>\n",
       "  <tbody>\n",
       "    <tr>\n",
       "      <th>84340.00</th>\n",
       "      <td>Prod2</td>\n",
       "      <td>6</td>\n",
       "      <td>100</td>\n",
       "      <td>125</td>\n",
       "      <td>36500.00</td>\n",
       "      <td>3.18</td>\n",
       "      <td>118110.70</td>\n",
       "    </tr>\n",
       "    <tr>\n",
       "      <th>99942.00</th>\n",
       "      <td>Prod2</td>\n",
       "      <td>11</td>\n",
       "      <td>511</td>\n",
       "      <td>523</td>\n",
       "      <td>36500.00</td>\n",
       "      <td>2.85</td>\n",
       "      <td>103276.22</td>\n",
       "    </tr>\n",
       "    <tr>\n",
       "      <th>7784.00</th>\n",
       "      <td>Prod2</td>\n",
       "      <td>14</td>\n",
       "      <td>573</td>\n",
       "      <td>677</td>\n",
       "      <td>36500.00</td>\n",
       "      <td>2.73</td>\n",
       "      <td>98427.96</td>\n",
       "    </tr>\n",
       "    <tr>\n",
       "      <th>19782.00</th>\n",
       "      <td>Prod2</td>\n",
       "      <td>16</td>\n",
       "      <td>617</td>\n",
       "      <td>624</td>\n",
       "      <td>27328.12</td>\n",
       "      <td>3.41</td>\n",
       "      <td>91807.78</td>\n",
       "    </tr>\n",
       "    <tr>\n",
       "      <th>27954.00</th>\n",
       "      <td>Prod2</td>\n",
       "      <td>32</td>\n",
       "      <td>616</td>\n",
       "      <td>624</td>\n",
       "      <td>15316.41</td>\n",
       "      <td>6.03</td>\n",
       "      <td>90017.71</td>\n",
       "    </tr>\n",
       "  </tbody>\n",
       "</table>\n",
       "</div>"
      ],
      "text/plain": [
       "           PRODUCT  frequency  recency    T  monetary_value  \\\n",
       "ACCOUNT_ID                                                    \n",
       "84340.00     Prod2          6      100  125        36500.00   \n",
       "99942.00     Prod2         11      511  523        36500.00   \n",
       "7784.00      Prod2         14      573  677        36500.00   \n",
       "19782.00     Prod2         16      617  624        27328.12   \n",
       "27954.00     Prod2         32      616  624        15316.41   \n",
       "\n",
       "            expected_num_purchases_6_months  6_months_clv  \n",
       "ACCOUNT_ID                                                 \n",
       "84340.00                               3.18     118110.70  \n",
       "99942.00                               2.85     103276.22  \n",
       "7784.00                                2.73      98427.96  \n",
       "19782.00                               3.41      91807.78  \n",
       "27954.00                               6.03      90017.71  "
      ]
     },
     "execution_count": 63,
     "metadata": {},
     "output_type": "execute_result"
    }
   ],
   "source": [
    "prod2_clv_dataset.sort_values('6_months_clv', ascending=False).head()"
   ]
  },
  {
   "cell_type": "code",
   "execution_count": 64,
   "metadata": {},
   "outputs": [
    {
     "name": "stdout",
     "output_type": "stream",
     "text": [
      "Prod2 sum expected revenue in 6 months $53,537,373\n"
     ]
    }
   ],
   "source": [
    "prod2_sum_expected_revenue_6_months = prod2_clv_dataset['6_months_clv'].sum()\n",
    "print(f'Prod2 sum expected revenue in 6 months ${prod2_sum_expected_revenue_6_months:,.0f}')"
   ]
  },
  {
   "attachments": {},
   "cell_type": "markdown",
   "metadata": {},
   "source": [
    "### Combine both products datasets"
   ]
  },
  {
   "cell_type": "code",
   "execution_count": 65,
   "metadata": {},
   "outputs": [],
   "source": [
    "combined_clv_dataset = pd.concat([prod1_clv_dataset, prod2_clv_dataset])"
   ]
  },
  {
   "cell_type": "code",
   "execution_count": 66,
   "metadata": {},
   "outputs": [
    {
     "name": "stdout",
     "output_type": "stream",
     "text": [
      "Prod1 sum expected revenue in 6 months $63,812,054\n",
      "Prod2 sum expected revenue in 6 months $53,537,373\n",
      "Total Revance sum expected revenue in 6 months $117,349,428\n"
     ]
    }
   ],
   "source": [
    "print(f'Prod1 sum expected revenue in 6 months ${prod1_sum_expected_revenue_6_months:,.0f}')\n",
    "print(f'Prod2 sum expected revenue in 6 months ${prod2_sum_expected_revenue_6_months:,.0f}')\n",
    "print(f'Total Revance sum expected revenue in 6 months ${prod1_sum_expected_revenue_6_months + prod2_sum_expected_revenue_6_months:,.0f}')"
   ]
  },
  {
   "attachments": {},
   "cell_type": "markdown",
   "metadata": {},
   "source": [
    "### Segment for each product"
   ]
  },
  {
   "cell_type": "code",
   "execution_count": 68,
   "metadata": {},
   "outputs": [],
   "source": [
    "# Segment Prod1\n",
    "combined_clv_dataset.loc[combined_clv_dataset['PRODUCT'] == 'Prod1', 'Segment'] = pd.qcut(combined_clv_dataset[combined_clv_dataset['PRODUCT'] == 'Prod1']['6_months_clv'], \n",
    "                                                                                        4, \n",
    "                                                                                        labels=['Dormant', 'Needs attention', 'Loyal customer', 'Best performers'])\n",
    "\n",
    "# Segment Prod2\n",
    "combined_clv_dataset.loc[combined_clv_dataset['PRODUCT'] == 'Prod2', 'Segment'] = pd.qcut(combined_clv_dataset[combined_clv_dataset['PRODUCT'] == 'Prod2']['6_months_clv'], \n",
    "                                                                                         4, \n",
    "                                                                                         labels=['Dormant', 'Needs attention', 'Loyal customer', 'Best performers'])"
   ]
  },
  {
   "cell_type": "code",
   "execution_count": 70,
   "metadata": {},
   "outputs": [
    {
     "data": {
      "text/html": [
       "<div>\n",
       "<style scoped>\n",
       "    .dataframe tbody tr th:only-of-type {\n",
       "        vertical-align: middle;\n",
       "    }\n",
       "\n",
       "    .dataframe tbody tr th {\n",
       "        vertical-align: top;\n",
       "    }\n",
       "\n",
       "    .dataframe thead th {\n",
       "        text-align: right;\n",
       "    }\n",
       "</style>\n",
       "<table border=\"1\" class=\"dataframe\">\n",
       "  <thead>\n",
       "    <tr style=\"text-align: right;\">\n",
       "      <th></th>\n",
       "      <th>frequency</th>\n",
       "      <th>recency</th>\n",
       "      <th>T</th>\n",
       "      <th>monetary_value</th>\n",
       "      <th>expected_num_purchases_6_months</th>\n",
       "      <th>6_months_clv</th>\n",
       "      <th>ACCOUNT_ID</th>\n",
       "    </tr>\n",
       "    <tr>\n",
       "      <th>Segment</th>\n",
       "      <th></th>\n",
       "      <th></th>\n",
       "      <th></th>\n",
       "      <th></th>\n",
       "      <th></th>\n",
       "      <th></th>\n",
       "      <th></th>\n",
       "    </tr>\n",
       "  </thead>\n",
       "  <tbody>\n",
       "    <tr>\n",
       "      <th>Dormant</th>\n",
       "      <td>5.10</td>\n",
       "      <td>274.59</td>\n",
       "      <td>993.87</td>\n",
       "      <td>5939.55</td>\n",
       "      <td>0.08</td>\n",
       "      <td>434.54</td>\n",
       "      <td>1793</td>\n",
       "    </tr>\n",
       "    <tr>\n",
       "      <th>Needs attention</th>\n",
       "      <td>4.65</td>\n",
       "      <td>579.30</td>\n",
       "      <td>823.33</td>\n",
       "      <td>5561.40</td>\n",
       "      <td>0.82</td>\n",
       "      <td>3998.16</td>\n",
       "      <td>1792</td>\n",
       "    </tr>\n",
       "    <tr>\n",
       "      <th>Loyal customer</th>\n",
       "      <td>6.64</td>\n",
       "      <td>607.00</td>\n",
       "      <td>711.79</td>\n",
       "      <td>6343.47</td>\n",
       "      <td>1.55</td>\n",
       "      <td>8863.55</td>\n",
       "      <td>1792</td>\n",
       "    </tr>\n",
       "    <tr>\n",
       "      <th>Best performers</th>\n",
       "      <td>15.77</td>\n",
       "      <td>708.60</td>\n",
       "      <td>766.75</td>\n",
       "      <td>8547.74</td>\n",
       "      <td>2.99</td>\n",
       "      <td>22300.46</td>\n",
       "      <td>1793</td>\n",
       "    </tr>\n",
       "  </tbody>\n",
       "</table>\n",
       "</div>"
      ],
      "text/plain": [
       "                 frequency  recency      T  monetary_value  \\\n",
       "Segment                                                      \n",
       "Dormant               5.10   274.59 993.87         5939.55   \n",
       "Needs attention       4.65   579.30 823.33         5561.40   \n",
       "Loyal customer        6.64   607.00 711.79         6343.47   \n",
       "Best performers      15.77   708.60 766.75         8547.74   \n",
       "\n",
       "                 expected_num_purchases_6_months  6_months_clv  ACCOUNT_ID  \n",
       "Segment                                                                     \n",
       "Dormant                                     0.08        434.54        1793  \n",
       "Needs attention                             0.82       3998.16        1792  \n",
       "Loyal customer                              1.55       8863.55        1792  \n",
       "Best performers                             2.99      22300.46        1793  "
      ]
     },
     "execution_count": 70,
     "metadata": {},
     "output_type": "execute_result"
    }
   ],
   "source": [
    "combined_clv_dataset[combined_clv_dataset['PRODUCT'] == 'Prod1'].reset_index().groupby('Segment').agg({'frequency': 'mean',\n",
    "                                                                                                        'recency': 'mean',\n",
    "                                                                                                        'T': 'mean',\n",
    "                                                                                                        'monetary_value': 'mean',\n",
    "                                                                                                        'expected_num_purchases_6_months': 'mean',\n",
    "                                                                                                        '6_months_clv': 'mean',\n",
    "                                                                                                        'ACCOUNT_ID': 'nunique'})"
   ]
  },
  {
   "cell_type": "code",
   "execution_count": 71,
   "metadata": {},
   "outputs": [
    {
     "data": {
      "text/html": [
       "<div>\n",
       "<style scoped>\n",
       "    .dataframe tbody tr th:only-of-type {\n",
       "        vertical-align: middle;\n",
       "    }\n",
       "\n",
       "    .dataframe tbody tr th {\n",
       "        vertical-align: top;\n",
       "    }\n",
       "\n",
       "    .dataframe thead th {\n",
       "        text-align: right;\n",
       "    }\n",
       "</style>\n",
       "<table border=\"1\" class=\"dataframe\">\n",
       "  <thead>\n",
       "    <tr style=\"text-align: right;\">\n",
       "      <th></th>\n",
       "      <th>frequency</th>\n",
       "      <th>recency</th>\n",
       "      <th>T</th>\n",
       "      <th>monetary_value</th>\n",
       "      <th>expected_num_purchases_6_months</th>\n",
       "      <th>6_months_clv</th>\n",
       "      <th>ACCOUNT_ID</th>\n",
       "    </tr>\n",
       "    <tr>\n",
       "      <th>Segment</th>\n",
       "      <th></th>\n",
       "      <th></th>\n",
       "      <th></th>\n",
       "      <th></th>\n",
       "      <th></th>\n",
       "      <th></th>\n",
       "      <th></th>\n",
       "    </tr>\n",
       "  </thead>\n",
       "  <tbody>\n",
       "    <tr>\n",
       "      <th>Dormant</th>\n",
       "      <td>2.57</td>\n",
       "      <td>161.80</td>\n",
       "      <td>374.30</td>\n",
       "      <td>6420.97</td>\n",
       "      <td>1.08</td>\n",
       "      <td>5929.87</td>\n",
       "      <td>811</td>\n",
       "    </tr>\n",
       "    <tr>\n",
       "      <th>Needs attention</th>\n",
       "      <td>3.13</td>\n",
       "      <td>272.84</td>\n",
       "      <td>378.49</td>\n",
       "      <td>7564.69</td>\n",
       "      <td>1.51</td>\n",
       "      <td>11251.11</td>\n",
       "      <td>810</td>\n",
       "    </tr>\n",
       "    <tr>\n",
       "      <th>Loyal customer</th>\n",
       "      <td>3.80</td>\n",
       "      <td>292.63</td>\n",
       "      <td>376.83</td>\n",
       "      <td>10035.33</td>\n",
       "      <td>1.71</td>\n",
       "      <td>17033.24</td>\n",
       "      <td>810</td>\n",
       "    </tr>\n",
       "    <tr>\n",
       "      <th>Best performers</th>\n",
       "      <td>5.55</td>\n",
       "      <td>354.72</td>\n",
       "      <td>427.58</td>\n",
       "      <td>16494.97</td>\n",
       "      <td>1.97</td>\n",
       "      <td>31834.68</td>\n",
       "      <td>811</td>\n",
       "    </tr>\n",
       "  </tbody>\n",
       "</table>\n",
       "</div>"
      ],
      "text/plain": [
       "                 frequency  recency      T  monetary_value  \\\n",
       "Segment                                                      \n",
       "Dormant               2.57   161.80 374.30         6420.97   \n",
       "Needs attention       3.13   272.84 378.49         7564.69   \n",
       "Loyal customer        3.80   292.63 376.83        10035.33   \n",
       "Best performers       5.55   354.72 427.58        16494.97   \n",
       "\n",
       "                 expected_num_purchases_6_months  6_months_clv  ACCOUNT_ID  \n",
       "Segment                                                                     \n",
       "Dormant                                     1.08       5929.87         811  \n",
       "Needs attention                             1.51      11251.11         810  \n",
       "Loyal customer                              1.71      17033.24         810  \n",
       "Best performers                             1.97      31834.68         811  "
      ]
     },
     "execution_count": 71,
     "metadata": {},
     "output_type": "execute_result"
    }
   ],
   "source": [
    "combined_clv_dataset[combined_clv_dataset['PRODUCT'] == 'Prod2'].reset_index().groupby('Segment').agg({'frequency': 'mean',\n",
    "                                                                                                        'recency': 'mean',\n",
    "                                                                                                        'T': 'mean',\n",
    "                                                                                                        'monetary_value': 'mean',\n",
    "                                                                                                        'expected_num_purchases_6_months': 'mean',\n",
    "                                                                                                        '6_months_clv': 'mean',\n",
    "                                                                                                        'ACCOUNT_ID': 'nunique'})"
   ]
  },
  {
   "cell_type": "code",
   "execution_count": 72,
   "metadata": {},
   "outputs": [
    {
     "data": {
      "text/html": [
       "<div>\n",
       "<style scoped>\n",
       "    .dataframe tbody tr th:only-of-type {\n",
       "        vertical-align: middle;\n",
       "    }\n",
       "\n",
       "    .dataframe tbody tr th {\n",
       "        vertical-align: top;\n",
       "    }\n",
       "\n",
       "    .dataframe thead th {\n",
       "        text-align: right;\n",
       "    }\n",
       "</style>\n",
       "<table border=\"1\" class=\"dataframe\">\n",
       "  <thead>\n",
       "    <tr style=\"text-align: right;\">\n",
       "      <th></th>\n",
       "      <th>PRODUCT</th>\n",
       "      <th>frequency</th>\n",
       "      <th>recency</th>\n",
       "      <th>T</th>\n",
       "      <th>monetary_value</th>\n",
       "      <th>expected_num_purchases_6_months</th>\n",
       "      <th>6_months_clv</th>\n",
       "      <th>Segment</th>\n",
       "    </tr>\n",
       "    <tr>\n",
       "      <th>ACCOUNT_ID</th>\n",
       "      <th></th>\n",
       "      <th></th>\n",
       "      <th></th>\n",
       "      <th></th>\n",
       "      <th></th>\n",
       "      <th></th>\n",
       "      <th></th>\n",
       "      <th></th>\n",
       "    </tr>\n",
       "  </thead>\n",
       "  <tbody>\n",
       "    <tr>\n",
       "      <th>12.00</th>\n",
       "      <td>Prod1</td>\n",
       "      <td>9</td>\n",
       "      <td>519</td>\n",
       "      <td>1028</td>\n",
       "      <td>5533.33</td>\n",
       "      <td>0.09</td>\n",
       "      <td>471.17</td>\n",
       "      <td>Dormant</td>\n",
       "    </tr>\n",
       "    <tr>\n",
       "      <th>18.00</th>\n",
       "      <td>Prod1</td>\n",
       "      <td>3</td>\n",
       "      <td>35</td>\n",
       "      <td>362</td>\n",
       "      <td>11283.33</td>\n",
       "      <td>0.13</td>\n",
       "      <td>1590.81</td>\n",
       "      <td>Dormant</td>\n",
       "    </tr>\n",
       "    <tr>\n",
       "      <th>35.00</th>\n",
       "      <td>Prod1</td>\n",
       "      <td>5</td>\n",
       "      <td>1327</td>\n",
       "      <td>1405</td>\n",
       "      <td>5840.00</td>\n",
       "      <td>0.77</td>\n",
       "      <td>4604.44</td>\n",
       "      <td>Needs attention</td>\n",
       "    </tr>\n",
       "    <tr>\n",
       "      <th>67.00</th>\n",
       "      <td>Prod1</td>\n",
       "      <td>4</td>\n",
       "      <td>736</td>\n",
       "      <td>887</td>\n",
       "      <td>6825.00</td>\n",
       "      <td>0.91</td>\n",
       "      <td>6478.84</td>\n",
       "      <td>Loyal customer</td>\n",
       "    </tr>\n",
       "    <tr>\n",
       "      <th>72.00</th>\n",
       "      <td>Prod1</td>\n",
       "      <td>2</td>\n",
       "      <td>327</td>\n",
       "      <td>482</td>\n",
       "      <td>8775.00</td>\n",
       "      <td>0.90</td>\n",
       "      <td>8992.50</td>\n",
       "      <td>Loyal customer</td>\n",
       "    </tr>\n",
       "    <tr>\n",
       "      <th>...</th>\n",
       "      <td>...</td>\n",
       "      <td>...</td>\n",
       "      <td>...</td>\n",
       "      <td>...</td>\n",
       "      <td>...</td>\n",
       "      <td>...</td>\n",
       "      <td>...</td>\n",
       "      <td>...</td>\n",
       "    </tr>\n",
       "    <tr>\n",
       "      <th>99933.00</th>\n",
       "      <td>Prod2</td>\n",
       "      <td>4</td>\n",
       "      <td>418</td>\n",
       "      <td>461</td>\n",
       "      <td>12625.00</td>\n",
       "      <td>1.66</td>\n",
       "      <td>21864.76</td>\n",
       "      <td>Best performers</td>\n",
       "    </tr>\n",
       "    <tr>\n",
       "      <th>99942.00</th>\n",
       "      <td>Prod2</td>\n",
       "      <td>11</td>\n",
       "      <td>511</td>\n",
       "      <td>523</td>\n",
       "      <td>36500.00</td>\n",
       "      <td>2.85</td>\n",
       "      <td>103276.22</td>\n",
       "      <td>Best performers</td>\n",
       "    </tr>\n",
       "    <tr>\n",
       "      <th>99949.00</th>\n",
       "      <td>Prod2</td>\n",
       "      <td>14</td>\n",
       "      <td>597</td>\n",
       "      <td>615</td>\n",
       "      <td>6850.00</td>\n",
       "      <td>3.10</td>\n",
       "      <td>20954.84</td>\n",
       "      <td>Loyal customer</td>\n",
       "    </tr>\n",
       "    <tr>\n",
       "      <th>99959.00</th>\n",
       "      <td>Prod2</td>\n",
       "      <td>2</td>\n",
       "      <td>86</td>\n",
       "      <td>98</td>\n",
       "      <td>7625.00</td>\n",
       "      <td>2.09</td>\n",
       "      <td>18150.32</td>\n",
       "      <td>Loyal customer</td>\n",
       "    </tr>\n",
       "    <tr>\n",
       "      <th>99961.00</th>\n",
       "      <td>Prod2</td>\n",
       "      <td>4</td>\n",
       "      <td>161</td>\n",
       "      <td>237</td>\n",
       "      <td>4200.00</td>\n",
       "      <td>2.07</td>\n",
       "      <td>9082.91</td>\n",
       "      <td>Needs attention</td>\n",
       "    </tr>\n",
       "  </tbody>\n",
       "</table>\n",
       "<p>10412 rows × 8 columns</p>\n",
       "</div>"
      ],
      "text/plain": [
       "           PRODUCT  frequency  recency     T  monetary_value  \\\n",
       "ACCOUNT_ID                                                     \n",
       "12.00        Prod1          9      519  1028         5533.33   \n",
       "18.00        Prod1          3       35   362        11283.33   \n",
       "35.00        Prod1          5     1327  1405         5840.00   \n",
       "67.00        Prod1          4      736   887         6825.00   \n",
       "72.00        Prod1          2      327   482         8775.00   \n",
       "...            ...        ...      ...   ...             ...   \n",
       "99933.00     Prod2          4      418   461        12625.00   \n",
       "99942.00     Prod2         11      511   523        36500.00   \n",
       "99949.00     Prod2         14      597   615         6850.00   \n",
       "99959.00     Prod2          2       86    98         7625.00   \n",
       "99961.00     Prod2          4      161   237         4200.00   \n",
       "\n",
       "            expected_num_purchases_6_months  6_months_clv          Segment  \n",
       "ACCOUNT_ID                                                                  \n",
       "12.00                                  0.09        471.17          Dormant  \n",
       "18.00                                  0.13       1590.81          Dormant  \n",
       "35.00                                  0.77       4604.44  Needs attention  \n",
       "67.00                                  0.91       6478.84   Loyal customer  \n",
       "72.00                                  0.90       8992.50   Loyal customer  \n",
       "...                                     ...           ...              ...  \n",
       "99933.00                               1.66      21864.76  Best performers  \n",
       "99942.00                               2.85     103276.22  Best performers  \n",
       "99949.00                               3.10      20954.84   Loyal customer  \n",
       "99959.00                               2.09      18150.32   Loyal customer  \n",
       "99961.00                               2.07       9082.91  Needs attention  \n",
       "\n",
       "[10412 rows x 8 columns]"
      ]
     },
     "execution_count": 72,
     "metadata": {},
     "output_type": "execute_result"
    }
   ],
   "source": [
    "combined_clv_dataset"
   ]
  },
  {
   "attachments": {},
   "cell_type": "markdown",
   "metadata": {},
   "source": [
    "### Plots"
   ]
  },
  {
   "cell_type": "code",
   "execution_count": 73,
   "metadata": {},
   "outputs": [
    {
     "data": {
      "text/plain": [
       "<Axes: title={'center': 'Expected Number of Future Purchases for 1 Unit of Time,\\nby Frequency and Recency of a Customer'}, xlabel=\"Customer's Historical Frequency\", ylabel=\"Customer's Recency\">"
      ]
     },
     "execution_count": 73,
     "metadata": {},
     "output_type": "execute_result"
    },
    {
     "data": {
      "image/png": "[encoded data removed]",
      "text/plain": [
       "<Figure size 640x480 with 2 Axes>"
      ]
     },
     "metadata": {},
     "output_type": "display_data"
    }
   ],
   "source": [
    "plot_frequency_recency_matrix(prod1_bgf)"
   ]
  },
  {
   "cell_type": "code",
   "execution_count": 74,
   "metadata": {},
   "outputs": [
    {
     "data": {
      "text/plain": [
       "<Axes: title={'center': 'Expected Number of Future Purchases for 1 Unit of Time,\\nby Frequency and Recency of a Customer'}, xlabel=\"Customer's Historical Frequency\", ylabel=\"Customer's Recency\">"
      ]
     },
     "execution_count": 74,
     "metadata": {},
     "output_type": "execute_result"
    },
    {
     "data": {
      "image/png": "[encoded data removed]",
      "text/plain": [
       "<Figure size 640x480 with 2 Axes>"
      ]
     },
     "metadata": {},
     "output_type": "display_data"
    }
   ],
   "source": [
    "plot_frequency_recency_matrix(prod2_bgf)"
   ]
  },
  {
   "cell_type": "code",
   "execution_count": 75,
   "metadata": {},
   "outputs": [
    {
     "data": {
      "image/png": "[encoded data removed]",
      "text/plain": [
       "<Figure size 1200x400 with 1 Axes>"
      ]
     },
     "metadata": {},
     "output_type": "display_data"
    }
   ],
   "source": [
    "prod1_mean_value = prod1_clv_dataset['monetary_value'].mean()\n",
    "\n",
    "plt.figure(figsize=(12,4))\n",
    "sns.kdeplot(data=prod1_clv_dataset, x='monetary_value', fill=True, color='gold')\n",
    "\n",
    "# Add a vertical line for the mean\n",
    "plt.axvline(prod1_mean_value, color='gold', linestyle='--', label=f'Mean: ${prod1_mean_value:,.0f}')\n",
    "\n",
    "plt.title('Prod1 - KDE Plot of Monetary Value with Mean')\n",
    "plt.xlabel('Monetary Value')\n",
    "plt.ylabel('Density')\n",
    "\n",
    "# Display the legend\n",
    "plt.legend()\n",
    "\n",
    "# Show the plot\n",
    "plt.show()"
   ]
  },
  {
   "cell_type": "code",
   "execution_count": 76,
   "metadata": {},
   "outputs": [
    {
     "data": {
      "image/png": "[encoded data removed]",
      "text/plain": [
       "<Figure size 1200x400 with 1 Axes>"
      ]
     },
     "metadata": {},
     "output_type": "display_data"
    }
   ],
   "source": [
    "prod1_mean_value = prod1_clv_dataset['frequency'].mean()\n",
    "\n",
    "plt.figure(figsize=(12,4))\n",
    "sns.kdeplot(data=prod1_clv_dataset, x='frequency', fill=True, color='gold')\n",
    "\n",
    "# Add a vertical line for the mean\n",
    "plt.axvline(prod1_mean_value, color='gold', linestyle='--', label=f'Mean: {prod1_mean_value:,.2f}')\n",
    "\n",
    "plt.title('Prod1 - KDE Plot of Frequency with Mean')\n",
    "plt.xlabel('Frequency')\n",
    "plt.ylabel('Density')\n",
    "\n",
    "# Display the legend\n",
    "plt.legend()\n",
    "\n",
    "# Show the plot\n",
    "plt.show()"
   ]
  },
  {
   "cell_type": "code",
   "execution_count": 77,
   "metadata": {},
   "outputs": [
    {
     "data": {
      "image/png": "[encoded data removed]",
      "text/plain": [
       "<Figure size 1200x400 with 1 Axes>"
      ]
     },
     "metadata": {},
     "output_type": "display_data"
    }
   ],
   "source": [
    "prod1_mean_value = prod1_clv_dataset['expected_num_purchases_6_months'].mean()\n",
    "\n",
    "plt.figure(figsize=(12,4))\n",
    "sns.kdeplot(data=prod1_clv_dataset, x='expected_num_purchases_6_months', fill=True, color='gold')\n",
    "\n",
    "# Add a vertical line for the mean\n",
    "plt.axvline(prod1_mean_value, color='gold', linestyle='--', label=f'Mean: {prod1_mean_value:,.2f}')\n",
    "\n",
    "plt.title('Prod1 - KDE Plot of Expected Number of Purchases 6 Months with Mean')\n",
    "plt.xlabel('Expected Number of Purchases 6 Months')\n",
    "plt.ylabel('Density')\n",
    "\n",
    "# Display the legend\n",
    "plt.legend()\n",
    "\n",
    "# Show the plot\n",
    "plt.show()"
   ]
  },
  {
   "cell_type": "code",
   "execution_count": 78,
   "metadata": {},
   "outputs": [
    {
     "data": {
      "image/png": "[encoded data removed]",
      "text/plain": [
       "<Figure size 1200x400 with 1 Axes>"
      ]
     },
     "metadata": {},
     "output_type": "display_data"
    }
   ],
   "source": [
    "prod1_mean_value = prod1_clv_dataset['6_months_clv'].mean()\n",
    "\n",
    "plt.figure(figsize=(12,4))\n",
    "sns.kdeplot(data=prod1_clv_dataset, x='6_months_clv', fill=True, color='gold')\n",
    "\n",
    "# Add a vertical line for the mean\n",
    "plt.axvline(prod1_mean_value, color='gold', linestyle='--', label=f'Mean: ${prod1_mean_value:,.0f}')\n",
    "\n",
    "plt.title('Prod1 - KDE Plot of 6 Months CLV with Mean')\n",
    "plt.xlabel('6 Months CLV')\n",
    "plt.ylabel('Density')\n",
    "\n",
    "# Display the legend\n",
    "plt.legend()\n",
    "\n",
    "# Show the plot\n",
    "plt.show()"
   ]
  },
  {
   "cell_type": "code",
   "execution_count": 79,
   "metadata": {},
   "outputs": [
    {
     "data": {
      "image/png": "[encoded data removed]",
      "text/plain": [
       "<Figure size 1200x400 with 1 Axes>"
      ]
     },
     "metadata": {},
     "output_type": "display_data"
    }
   ],
   "source": [
    "prod2_mean_value = prod2_clv_dataset['monetary_value'].mean()\n",
    "\n",
    "plt.figure(figsize=(12,4))\n",
    "sns.kdeplot(data=prod2_clv_dataset, x='monetary_value', fill=True, color='blue')\n",
    "\n",
    "# Add a vertical line for the mean\n",
    "plt.axvline(prod2_mean_value, color='blue', linestyle='--', label=f'Mean: ${prod2_mean_value:,.0f}')\n",
    "\n",
    "plt.title('Prod2 - KDE Plot of Monetary Value with Mean')\n",
    "plt.xlabel('Monetary Value')\n",
    "plt.ylabel('Density')\n",
    "\n",
    "# Display the legend\n",
    "plt.legend()\n",
    "\n",
    "# Show the plot\n",
    "plt.show()"
   ]
  },
  {
   "cell_type": "code",
   "execution_count": 80,
   "metadata": {},
   "outputs": [
    {
     "data": {
      "image/png": "[encoded data removed]",
      "text/plain": [
       "<Figure size 1200x400 with 1 Axes>"
      ]
     },
     "metadata": {},
     "output_type": "display_data"
    }
   ],
   "source": [
    "prod2_mean_value = prod2_clv_dataset['frequency'].mean()\n",
    "\n",
    "plt.figure(figsize=(12,4))\n",
    "sns.kdeplot(data=prod2_clv_dataset, x='frequency', fill=True, color='blue')\n",
    "\n",
    "# Add a vertical line for the mean\n",
    "plt.axvline(prod2_mean_value, color='blue', linestyle='--', label=f'Mean: {prod2_mean_value:,.2f}')\n",
    "\n",
    "plt.title('Prod2 - KDE Plot of Frequency with Mean')\n",
    "plt.xlabel('Frequency')\n",
    "plt.ylabel('Density')\n",
    "\n",
    "# Display the legend\n",
    "plt.legend()\n",
    "\n",
    "# Show the plot\n",
    "plt.show()"
   ]
  },
  {
   "cell_type": "code",
   "execution_count": 81,
   "metadata": {},
   "outputs": [
    {
     "data": {
      "image/png": "[encoded data removed]",
      "text/plain": [
       "<Figure size 1200x400 with 1 Axes>"
      ]
     },
     "metadata": {},
     "output_type": "display_data"
    }
   ],
   "source": [
    "prod2_mean_value = prod2_clv_dataset['expected_num_purchases_6_months'].mean()\n",
    "\n",
    "plt.figure(figsize=(12,4))\n",
    "sns.kdeplot(data=prod2_clv_dataset, x='expected_num_purchases_6_months', fill=True, color='blue')\n",
    "\n",
    "# Add a vertical line for the mean\n",
    "plt.axvline(prod2_mean_value, color='blue', linestyle='--', label=f'Mean: {prod2_mean_value:,.2f}')\n",
    "\n",
    "plt.title('Prod2 - KDE Plot of Expected Number of Purchases 6 Months with Mean')\n",
    "plt.xlabel('Expected Number of Purchases 6 Months')\n",
    "plt.ylabel('Density')\n",
    "\n",
    "# Display the legend\n",
    "plt.legend()\n",
    "\n",
    "# Show the plot\n",
    "plt.show()"
   ]
  },
  {
   "cell_type": "code",
   "execution_count": 82,
   "metadata": {},
   "outputs": [
    {
     "data": {
      "image/png": "[encoded data removed]",
      "text/plain": [
       "<Figure size 1200x400 with 1 Axes>"
      ]
     },
     "metadata": {},
     "output_type": "display_data"
    }
   ],
   "source": [
    "prod2_mean_value = prod2_clv_dataset['6_months_clv'].mean()\n",
    "\n",
    "plt.figure(figsize=(12,4))\n",
    "sns.kdeplot(data=prod2_clv_dataset, x='6_months_clv', fill=True, color='blue')\n",
    "\n",
    "# Add a vertical line for the mean\n",
    "plt.axvline(prod2_mean_value, color='blue', linestyle='--', label=f'Mean: ${prod2_mean_value:,.0f}')\n",
    "\n",
    "plt.title('Prod2 - KDE Plot of 6 Months CLV with Mean')\n",
    "plt.xlabel('6 Months CLV')\n",
    "plt.ylabel('Density')\n",
    "\n",
    "# Display the legend\n",
    "plt.legend()\n",
    "\n",
    "# Show the plot\n",
    "plt.show()"
   ]
  }
 ],
 "metadata": {
  "kernelspec": {
   "display_name": "env1",
   "language": "python",
   "name": "python3"
  },
  "language_info": {
   "codemirror_mode": {
    "name": "ipython",
    "version": 3
   },
   "file_extension": ".py",
   "mimetype": "text/x-python",
   "name": "python",
   "nbconvert_exporter": "python",
   "pygments_lexer": "ipython3",
   "version": "3.11.8"
  },
  "orig_nbformat": 4
 },
 "nbformat": 4,
 "nbformat_minor": 2
}
